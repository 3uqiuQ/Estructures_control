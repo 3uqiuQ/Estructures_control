{
 "cells": [
  {
   "cell_type": "markdown",
   "id": "a08a1b93",
   "metadata": {},
   "source": [
    "### **Exercici 1**  \n",
    "\n",
    "L'exercici consisteix a crear un programa que et classifiqui una variable numèrica en funció de l’escala  \n",
    "Suspès/Aprovat/Notable/Excel·lent.  \n",
    "\n",
    "Recorda que Suspès < 5, Aprovat > 5 i < 7, Notable > 7 i < 9 i Excel·lent > 9."
   ]
  },
  {
   "cell_type": "code",
   "execution_count": 1,
   "id": "983490cb",
   "metadata": {},
   "outputs": [
    {
     "name": "stdout",
     "output_type": "stream",
     "text": [
      "Quina nota has tret a l'examen?  7.5\n",
      "7.5. Molt bé! Tens un notable!!\n"
     ]
    }
   ],
   "source": [
    "def correccio (nota):\n",
    "    if nota >= 0 and nota < 5:\n",
    "        print(str(nota) + '. Malauradament, has suspés l\\'examen.')\n",
    "    elif nota >= 5 and nota < 7:\n",
    "        print(str(nota) + '. Has aprovat l\\'examen.')\n",
    "    elif nota >= 7 and nota < 9:\n",
    "        print(str(nota) + '. Molt bé! Tens un notable!!')\n",
    "    elif nota >= 9:\n",
    "        print(str(nota) + '. L\\'enhorabona !!! Excel.lent !!!')\n",
    "    else:\n",
    "        print('Si us plau, introdueix de nou la nota. NO pot ser un numero negatiu.')\n",
    "\n",
    "nota = float(input('Quina nota has tret a l\\'examen?  '))\n",
    "nota = round(nota, 2)\n",
    "correccio(nota)"
   ]
  },
  {
   "cell_type": "markdown",
   "id": "0c809b78",
   "metadata": {},
   "source": [
    "### **Exercici 2**  \n",
    "\n",
    "Utilitzant el següent tutorial crea un programa que et pregunti dos números.  \n",
    "T’ha de mostrar un missatge dient si el primer és més gran, el segon és més gran o són iguals."
   ]
  },
  {
   "cell_type": "code",
   "execution_count": 2,
   "id": "5a498554",
   "metadata": {},
   "outputs": [
    {
     "name": "stdout",
     "output_type": "stream",
     "text": [
      "Introdueix el primer número:  45\n",
      "Introdueix un altre número:  54\n",
      "El segón número: (54) es més gran que el primer (45).\n"
     ]
    }
   ],
   "source": [
    "def compara (primer, segon):\n",
    "    if type(primer) != int or type(segon) != int:\n",
    "        print('Por favor, los números han de ser enteros.')\n",
    "    else:\n",
    "        if primer > segon:\n",
    "            print('El primer número: ({}) es més gran que el segón ({}).'.format(primer, segon))\n",
    "        if segon > primer:\n",
    "            print('El segón número: ({}) es més gran que el primer ({}).'.format(segon, primer))\n",
    "        if primer == segon:\n",
    "            print('Els dos números son iguals. ({} i {}, son el mateix número).'.format(primer, segon))\n",
    "            \n",
    "primer = int(input('Introdueix el primer número:  '))\n",
    "segon = int(input('Introdueix un altre número:  '))\n",
    "\n",
    "compara(primer, segon)"
   ]
  },
  {
   "cell_type": "markdown",
   "id": "e8f064d1",
   "metadata": {},
   "source": [
    "### **Exercici 3**  \n",
    "\n",
    "Crea un programa que et pregunti el teu nom, i et demani un número.  \n",
    "Si el número és 0, hauria de mostrar un missatge d’error. En cas contrari, hauria de mostrar  \n",
    "el nom repetit tants cops com indiqui el número. Per exemple, “Joan Joan Joan”.\n",
    "\n"
   ]
  },
  {
   "cell_type": "code",
   "execution_count": 3,
   "id": "aaf8f580",
   "metadata": {},
   "outputs": [
    {
     "name": "stdout",
     "output_type": "stream",
     "text": [
      "Si us plau, introdueix el teu nom: Quique\n",
      "Introdueix un numero: 3\n",
      "Quique\n",
      "Quique\n",
      "Quique\n"
     ]
    }
   ],
   "source": [
    "def nom_vegades(nombre, num):\n",
    "    i = 0\n",
    "    while i < num:\n",
    "        print(nombre)\n",
    "        i += 1\n",
    "    \n",
    "nombre = str(input('Si us plau, introdueix el teu nom: '))\n",
    "num = int(input('Introdueix un numero: '))\n",
    "\n",
    "nom_vegades(nombre, num)\n"
   ]
  },
  {
   "cell_type": "markdown",
   "id": "d93ae63b",
   "metadata": {},
   "source": [
    "### **Exercici 4**  \n",
    "\n",
    "Crea un programa que donada una llista qualsevol, et digui si és simètrica o no.  \n",
    "Si ho és, que et digui quants elements té."
   ]
  },
  {
   "cell_type": "code",
   "execution_count": 4,
   "id": "3d0d66e9",
   "metadata": {},
   "outputs": [
    {
     "name": "stdout",
     "output_type": "stream",
     "text": [
      "<class 'list'>\n",
      "[2, 4, 5, 7, 3, 9, 4, 9, 3, 7, 5, 4, 2] \n",
      "\n",
      "La lista es simétrica y tiene 13 elementos.\n"
     ]
    }
   ],
   "source": [
    "def simetrica (lista):\n",
    "    l = len(lista)\n",
    "    i = 0\n",
    "    j = len(lista) -1\n",
    "    while i < j:\n",
    "        if lista[i] == lista[j]:\n",
    "            i +=1\n",
    "            j -=1\n",
    "        else:\n",
    "            print('La lista NO es simétrica.')\n",
    "            break\n",
    "    else:\n",
    "        print('La lista es simétrica y tiene ' + str(l) + ' elementos.')\n",
    "            \n",
    "lista = [2,4,5,7,3,9,4,9,3,7,5,4,2]\n",
    "print(type(lista))\n",
    "print (lista, '\\n')\n",
    "\n",
    "simetrica(lista)\n"
   ]
  },
  {
   "cell_type": "markdown",
   "id": "14fe3f53",
   "metadata": {},
   "source": [
    "### **Exercici 5**  \n",
    "\n",
    "Crea un programa que donada una llista, et digui quants números coincideixen amb la seva posició.  \n",
    "Per exemple [3,4,2,0,2,3,6] el 2 i el 6 coincideixen."
   ]
  },
  {
   "cell_type": "code",
   "execution_count": 5,
   "id": "1b101005",
   "metadata": {},
   "outputs": [
    {
     "name": "stdout",
     "output_type": "stream",
     "text": [
      "<class 'list'>\n",
      "[2, 1, 3, 7, 9, 9, 0, 8, 6, 0, 9, 3, 13, 5, 2] \n",
      "\n",
      "Els números que coincideixen amb la seva posició son: [3, 8, 13]\n"
     ]
    }
   ],
   "source": [
    "def posicio (lista):\n",
    "    i = 0\n",
    "    nova_llista = []\n",
    "    while i < len(llista):\n",
    "        if llista[i] == i + 1:\n",
    "            nova_llista.append(llista[i])\n",
    "            i += 1\n",
    "        else:\n",
    "            i += 1\n",
    "    if nova_llista :\n",
    "        print('Els números que coincideixen amb la seva posició son: {}'.format(nova_llista))\n",
    "    else:\n",
    "        print('No hi ha cap número que coincideixi amb la seva posició\\n')\n",
    "\n",
    "llista = [2,1,3,7,9,9,0,8,6,0,9,3,13,5,2]\n",
    "print(type(llista))\n",
    "print(llista, '\\n')\n",
    "\n",
    "posicio(llista)\n",
    "\n"
   ]
  },
  {
   "cell_type": "code",
   "execution_count": null,
   "id": "2da24c87",
   "metadata": {},
   "outputs": [],
   "source": []
  }
 ],
 "metadata": {
  "kernelspec": {
   "display_name": "Python 3 (ipykernel)",
   "language": "python",
   "name": "python3"
  },
  "language_info": {
   "codemirror_mode": {
    "name": "ipython",
    "version": 3
   },
   "file_extension": ".py",
   "mimetype": "text/x-python",
   "name": "python",
   "nbconvert_exporter": "python",
   "pygments_lexer": "ipython3",
   "version": "3.9.13"
  }
 },
 "nbformat": 4,
 "nbformat_minor": 5
}
