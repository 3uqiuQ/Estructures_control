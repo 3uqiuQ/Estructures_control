{
 "cells": [
  {
   "cell_type": "markdown",
   "id": "6ebbaf38",
   "metadata": {},
   "source": [
    "### **Exercici 1**  \n",
    "\n",
    "L'exercici consisteix a crear un programa que et classifiqui una variable numèrica en funció de l’escala  \n",
    "Suspès/Aprovat/Notable/Excel·lent.  \n",
    "\n",
    "Recorda que Suspès < 5, Aprovat > 5 i < 7, Notable > 7 i < 9 i Excel·lent > 9."
   ]
  },
  {
   "cell_type": "code",
   "execution_count": null,
   "id": "f13740c4",
   "metadata": {},
   "outputs": [],
   "source": [
    "print('\\n')\n",
    "nota = float(input('Quina nota has tret a l\\'examen?  '))\n",
    "nota = round(nota, 2)\n",
    "\n",
    "if nota >= 0 and nota < 5:\n",
    "    print(str(nota) + '. Malauradament, has suspés l\\'examen.')\n",
    "elif nota >= 5 and nota < 7:\n",
    "    print(str(nota) + '. Has aprovat l\\'examen.')\n",
    "elif nota >= 7 and nota < 9:\n",
    "    print(str(nota) + '. Molt bé! Tens un notable!!')\n",
    "elif nota >= 9:\n",
    "    print(str(nota) + '. L\\'enhorabona !!! Excel.lent !!!')\n",
    "else:\n",
    "    print('Si us plau, introdueix de nou la nota. NO pot ser un numero negatiu.')"
   ]
  },
  {
   "cell_type": "markdown",
   "id": "581dfa05",
   "metadata": {},
   "source": [
    "### **Exercici 2**  \n",
    "\n",
    "Utilitzant el següent tutorial crea un programa que et pregunti dos números.  \n",
    "T’ha de mostrar un missatge dient si el primer és més gran, el segon és més gran o són iguals."
   ]
  },
  {
   "cell_type": "code",
   "execution_count": null,
   "id": "0bf46da7",
   "metadata": {},
   "outputs": [],
   "source": [
    "print('\\n')\n",
    "primer = int(input('Introdueix el primer número:  '))\n",
    "segon = int(input('Introdueix un altre número:  '))\n",
    "\n",
    "if type(primer) != int or type(segon) != int:\n",
    "    print('Por favor, los números han de ser enteros.')\n",
    "else:\n",
    "    if primer > segon:\n",
    "        print('El primer número: ({}) es més gran que el segón ({}).'.format(primer, segon))\n",
    "    if segon > primer:\n",
    "        print('El segón número: ({}) es més gran que el primer ({}).'.format(segon, primer))\n",
    "    if primer == segon:\n",
    "        print('Els dos números son iguals. ({} i {}, son el mateix número).'.format(primer, segon))\n"
   ]
  },
  {
   "cell_type": "markdown",
   "id": "4e44d872",
   "metadata": {},
   "source": [
    "### **Exercici 3**  \n",
    "\n",
    "Crea un programa que et pregunti el teu nom, i et demani un número.  \n",
    "Si el número és 0, hauria de mostrar un missatge d’error. En cas contrari, hauria de mostrar  \n",
    "el nom repetit tants cops com indiqui el número. Per exemple, “Joan Joan Joan”.\n",
    "\n"
   ]
  },
  {
   "cell_type": "code",
   "execution_count": null,
   "id": "f05f1d9f",
   "metadata": {},
   "outputs": [],
   "source": [
    "print('\\n')\n",
    "nombre = str(input('Si us plau, introdueix el teu nom: '))\n",
    "num = int(input('Introdueix un numero:  '))\n",
    "i = 0\n",
    "while i < num:\n",
    "    print(nombre)\n",
    "    i += 1"
   ]
  },
  {
   "cell_type": "markdown",
   "id": "5b76093c",
   "metadata": {},
   "source": [
    "### **Exercici 4**  \n",
    "\n",
    "Crea un programa que donada una llista qualsevol, et digui si és simètrica o no.  \n",
    "Si ho és, que et digui quants elements té."
   ]
  },
  {
   "cell_type": "code",
   "execution_count": null,
   "id": "f0c2ca5c",
   "metadata": {},
   "outputs": [],
   "source": [
    "lista = [2,4,5,7,3,9,9,3,7,6,4,2]\n",
    "print(type(lista))\n",
    "print (lista, '\\n')\n",
    "i = 0\n",
    "j = len(lista) -1\n",
    "while i < j:\n",
    "    if lista[i] == lista[j]:\n",
    "        i +=1\n",
    "        j -=1\n",
    "    else:\n",
    "        print('La lista NO es simétrica.')\n",
    "        break\n",
    "else:\n",
    "    print('La lista es simétrica.')\n"
   ]
  },
  {
   "cell_type": "markdown",
   "id": "e291c67e",
   "metadata": {},
   "source": [
    "### **Exercici 5**  \n",
    "\n",
    "Crea un programa que donada una llista, et digui quants números coincideixen amb la seva posició.  \n",
    "Per exemple [3,4,2,0,2,3,6] el 2 i el 6 coincideixen."
   ]
  },
  {
   "cell_type": "code",
   "execution_count": null,
   "id": "040b567f",
   "metadata": {},
   "outputs": [],
   "source": [
    "llista = [2,1,3,7,9,9,0,8,6,0,9,3,13,5,2]\n",
    "nova_llista = []\n",
    "print(type(llista))\n",
    "print(llista, '\\n')\n",
    "\n",
    "i = 0\n",
    "while i < len(llista):\n",
    "    if llista[i] == i + 1:\n",
    "        nova_llista.append(llista[i])\n",
    "        i += 1\n",
    "    else:\n",
    "        i += 1\n",
    "\n",
    "if nova_llista :\n",
    "    print('Els números que coincideixen amb la seva posició son: {}'.format(nova_llista))\n",
    "else:\n",
    "    print('No hi ha cap número que coincideixi amb la seva posició\\n')\n"
   ]
  },
  {
   "cell_type": "code",
   "execution_count": null,
   "id": "d3aad105",
   "metadata": {},
   "outputs": [],
   "source": []
  }
 ],
 "metadata": {
  "kernelspec": {
   "display_name": "Python 3 (ipykernel)",
   "language": "python",
   "name": "python3"
  },
  "language_info": {
   "codemirror_mode": {
    "name": "ipython",
    "version": 3
   },
   "file_extension": ".py",
   "mimetype": "text/x-python",
   "name": "python",
   "nbconvert_exporter": "python",
   "pygments_lexer": "ipython3",
   "version": "3.9.13"
  }
 },
 "nbformat": 4,
 "nbformat_minor": 5
}
