{
 "cells": [
  {
   "cell_type": "markdown",
   "id": "7064998b",
   "metadata": {},
   "source": [
    "### **Exercici 1**  \n",
    "\n",
    "L'exercici consisteix a crear un programa que et classifiqui una variable numèrica en funció de l’escala  \n",
    "Suspès/Aprovat/Notable/Excel·lent.  \n",
    "\n",
    "Recorda que Suspès < 5, Aprovat > 5 i < 7, Notable > 7 i < 9 i Excel·lent > 9."
   ]
  },
  {
   "cell_type": "code",
   "execution_count": 1,
   "id": "22cb040e",
   "metadata": {},
   "outputs": [
    {
     "name": "stdout",
     "output_type": "stream",
     "text": [
      "Quina nota has tret a l'examen?  7\n",
      "7.0. Molt bé! Tens un notable!!\n"
     ]
    }
   ],
   "source": [
    "def correccio (nota):\n",
    "    if nota < 0:\n",
    "        print('Si us plau, introdueix de nou la nota. NO pot ser un numero negatiu.')\n",
    "    elif nota >= 9:\n",
    "        print(str(nota) + '. L\\'enhorabona !!! Excel.lent !!!')\n",
    "    elif nota >= 7:\n",
    "        print(str(nota) + '. Molt bé! Tens un notable!!')\n",
    "    elif nota >= 5:\n",
    "        print(str(nota) + '. Has aprovat l\\'examen.')\n",
    "    else:\n",
    "        print(str(nota) + '. Malauradament, has suspés l\\'examen.')\n",
    "        \n",
    "nota = float(input('Quina nota has tret a l\\'examen?  '))\n",
    "nota = round(nota, 2)\n",
    "correccio(nota)"
   ]
  },
  {
   "cell_type": "markdown",
   "id": "2cd76f89",
   "metadata": {},
   "source": [
    "##### **Exercici 3**  \n",
    "\n",
    "Crea un programa que et pregunti el teu nom, i et demani un número.  \n",
    "Si el número és 0, hauria de mostrar un missatge d’error. En cas contrari, hauria de mostrar  \n",
    "el nom repetit tants cops com indiqui el número. Per exemple, “Joan Joan Joan”."
   ]
  },
  {
   "cell_type": "code",
   "execution_count": 2,
   "id": "9b9bf805",
   "metadata": {},
   "outputs": [
    {
     "name": "stdout",
     "output_type": "stream",
     "text": [
      "Si us plau, introdueix el teu nom: Quique\n",
      "Introdueix un numero: 5\n"
     ]
    },
    {
     "data": {
      "text/plain": [
       "'Quique Quique Quique Quique Quique '"
      ]
     },
     "execution_count": 2,
     "metadata": {},
     "output_type": "execute_result"
    }
   ],
   "source": [
    "def nom_vegades(nombre, num):\n",
    "        return (nombre + ' ') * num\n",
    "\n",
    "nombre = str(input('Si us plau, introdueix el teu nom: '))\n",
    "num = int(input('Introdueix un numero: '))\n",
    "\n",
    "nom_vegades(nombre, num)"
   ]
  },
  {
   "cell_type": "markdown",
   "id": "451d7ada",
   "metadata": {},
   "source": [
    "### **Exercici 4**  \n",
    "\n",
    "Crea un programa que donada una llista qualsevol, et digui si és simètrica o no.  \n",
    "Si ho és, que et digui quants elements té."
   ]
  },
  {
   "cell_type": "code",
   "execution_count": 3,
   "id": "69ffb800",
   "metadata": {},
   "outputs": [
    {
     "name": "stdout",
     "output_type": "stream",
     "text": [
      "<class 'list'>\n",
      "[2, 4, 5, 7, 3, 9, 4, 9, 3, 7, 5, 4, 2] \n",
      "\n",
      "[2, 4, 5, 7, 3, 9, 4, 9, 3, 7, 5, 4, 2] \n",
      "\n",
      "La lista es simétrica y tiene 13 elementos.\n"
     ]
    }
   ],
   "source": [
    "def simetrica(lista):\n",
    "    l = len(lista)\n",
    "    lista_invertida = list(lista)\n",
    "    lista_invertida.reverse()\n",
    "    print(lista_invertida , '\\n')\n",
    "          \n",
    "    if lista == lista_invertida:\n",
    "        print('La lista es simétrica y tiene ' + str(l) + ' elementos.')\n",
    "    else:\n",
    "        print('La lista NO es simétrica.')\n",
    "        \n",
    "lista = [2,4,5,7,3,9,4,9,3,7,5,4,2]\n",
    "\n",
    "print(type(lista))\n",
    "print (lista, '\\n')\n",
    "\n",
    "simetrica(lista)\n"
   ]
  },
  {
   "cell_type": "code",
   "execution_count": null,
   "id": "250e9705",
   "metadata": {},
   "outputs": [],
   "source": []
  }
 ],
 "metadata": {
  "kernelspec": {
   "display_name": "Python 3 (ipykernel)",
   "language": "python",
   "name": "python3"
  },
  "language_info": {
   "codemirror_mode": {
    "name": "ipython",
    "version": 3
   },
   "file_extension": ".py",
   "mimetype": "text/x-python",
   "name": "python",
   "nbconvert_exporter": "python",
   "pygments_lexer": "ipython3",
   "version": "3.9.13"
  }
 },
 "nbformat": 4,
 "nbformat_minor": 5
}
